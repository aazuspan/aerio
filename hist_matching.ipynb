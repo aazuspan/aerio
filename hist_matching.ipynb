{
 "cells": [
  {
   "cell_type": "markdown",
   "metadata": {},
   "source": [
    "# Histogram matching\n",
    "Utility scripts for batch histogram matching of photos. Histogram matching can be used to normalize differences in lighting between photos."
   ]
  },
  {
   "cell_type": "code",
   "execution_count": 1,
   "metadata": {},
   "outputs": [],
   "source": [
    "import os\n",
    "import numpy as np\n",
    "from skimage import io\n",
    "from skimage.exposure import match_histograms\n",
    "\n",
    "from utils import sprint, list_paths, add_suffix"
   ]
  },
  {
   "cell_type": "markdown",
   "metadata": {},
   "source": [
    "## Matching function"
   ]
  },
  {
   "cell_type": "code",
   "execution_count": 2,
   "metadata": {},
   "outputs": [],
   "source": [
    "def histogram_match_photos(photo_paths, write=True, save_dir=None, save_suffix=\"_match\", reference_index=0, dtype=None, silent=False):\n",
    "    \"\"\"\n",
    "    Histogram match a set of photos, using one of the photos as a reference. Return the matched photos\n",
    "    and optionally write to files.\n",
    "    @param {list} photo_paths A list of relative or absolute paths to image files\n",
    "    @param {bool, default True} write If true, the matched photos will be written to disk.\n",
    "    @param {str, default None} save_dir A directory to write matched files to. If none is provided,\n",
    "    files will be written to the directory they were read from.\n",
    "    @param {str, default \"_match\"} saveSuffix Characters to append to the filename when writing\n",
    "    @param {int, default 0} reference_index The index of the photo path to use as a reference when\n",
    "    histogram matching.\n",
    "    @param {numpy.dtype, default None} dtype The data type to cast values of the matched photo to.\n",
    "    If none is provided, the data type of the input reference image will be used.\n",
    "    @return {list} List of np.ndarrays representing histogram matched photos\n",
    "    \"\"\"\n",
    "    photos = [io.imread(path) for path in photo_paths]\n",
    "    reference = photos[reference_index]\n",
    "    \n",
    "    if not dtype:\n",
    "        dtype = reference.dtype\n",
    "    \n",
    "    matched_photos = []\n",
    "    \n",
    "    for i, photo in enumerate(photos):\n",
    "        sprint(f\"Matching photo {i + 1} of {len(photos)}...\", silent)\n",
    "        \n",
    "        matched = match_histograms(photo, reference).astype(dtype)\n",
    "        matched_photos.append(matched)\n",
    "        \n",
    "        if write:\n",
    "            in_path = photo_paths[i]\n",
    "            out_path = os.path.join(save_dir, os.path.basename(in_path)) if save_dir else in_path\n",
    "            out_path = add_suffix(out_path, save_suffix)\n",
    "            sprint(f\"Writing matched photo to {out_path}...\", silent)\n",
    "            io.imsave(out_path, matched)\n",
    "    \n",
    "    return matched_photos"
   ]
  },
  {
   "cell_type": "markdown",
   "metadata": {},
   "source": [
    "## Example"
   ]
  },
  {
   "cell_type": "code",
   "execution_count": 5,
   "metadata": {},
   "outputs": [],
   "source": [
    "img_dir = os.path.join(\"data\")\n",
    "valid_extensions = (\".tif\")\n",
    "photo_paths = list_paths(img_dir, valid_extensions)\n",
    "\n",
    "matched_photos = histogram_match_photos(photo_paths, write=True, save_suffix=\"_matched\", silent=True)"
   ]
  }
 ],
 "metadata": {
  "kernelspec": {
   "display_name": "Python 3",
   "language": "python",
   "name": "python3"
  },
  "language_info": {
   "codemirror_mode": {
    "name": "ipython",
    "version": 3
   },
   "file_extension": ".py",
   "mimetype": "text/x-python",
   "name": "python",
   "nbconvert_exporter": "python",
   "pygments_lexer": "ipython3",
   "version": "3.8.5"
  }
 },
 "nbformat": 4,
 "nbformat_minor": 4
}
