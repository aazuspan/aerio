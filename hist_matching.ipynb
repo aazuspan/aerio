{
 "cells": [
  {
   "cell_type": "markdown",
   "metadata": {},
   "source": [
    "# Histogram matching\n",
    "Utility scripts for batch histogram matching of photos. Histogram matching can be used to normalize differences in lighting between photos."
   ]
  },
  {
   "cell_type": "code",
   "execution_count": 1,
   "metadata": {},
   "outputs": [],
   "source": [
    "import os\n",
    "import numpy as np\n",
    "from skimage import io\n",
    "from skimage.exposure import match_histograms"
   ]
  },
  {
   "cell_type": "markdown",
   "metadata": {},
   "source": [
    "## Helper functions"
   ]
  },
  {
   "cell_type": "code",
   "execution_count": 20,
   "metadata": {},
   "outputs": [],
   "source": [
    "def list_paths(file_dir, valid_extensions):\n",
    "    \"\"\"\n",
    "    Return a list of paths to files in a directory with valid extensions\n",
    "    @param {str} file_dir The directory to find files in\n",
    "    @param {list} valid_extensions All valid extensions, such as \".tif\"\n",
    "    @return {list} Path to all files with valid extensions in the file directory\n",
    "    \"\"\"\n",
    "    return [os.path.join(file_dir, file) for file in os.listdir(file_dir) if any(file.endswith(ext) for ext in valid_extensions)]"
   ]
  },
  {
   "cell_type": "code",
   "execution_count": 13,
   "metadata": {},
   "outputs": [],
   "source": [
    "def add_suffix(file_path, suffix):\n",
    "    \"\"\"\n",
    "    Insert a suffix into the file name of a path.\n",
    "    @param {str} file_path A relative or absolute path to the file, including the file name\n",
    "    @param {str} suffix A set of characters to append to the file name as a suffix\n",
    "    @return {str} A relative or absolute path to the file with the suffix appended to the file name\n",
    "    \"\"\"\n",
    "    path, basename = os.path.split(file_path)\n",
    "    name, ext = os.path.splitext(basename)\n",
    "    name_suffix = f\"{name}{suffix}{ext}\"\n",
    "    \n",
    "    full_path = os.path.join(path, name_suffix)\n",
    "    return full_path"
   ]
  },
  {
   "cell_type": "code",
   "execution_count": 69,
   "metadata": {},
   "outputs": [],
   "source": [
    "def sprint(s, silent=False):\n",
    "    \"\"\"\n",
    "    A silenceable wrapper around print.\n",
    "    @param {str} s Text to print\n",
    "    @param {bool} silent If true, nothing will print. If false, text will be printed.\n",
    "    \"\"\"\n",
    "    if not silent:\n",
    "        print(s)"
   ]
  },
  {
   "cell_type": "markdown",
   "metadata": {},
   "source": [
    "## Matching function"
   ]
  },
  {
   "cell_type": "code",
   "execution_count": 73,
   "metadata": {},
   "outputs": [],
   "source": [
    "def histogram_match_photos(photo_paths, write=True, save_dir=None, save_suffix=\"_match\", reference_index=0, dtype=None, silent=False):\n",
    "    \"\"\"\n",
    "    Histogram match a set of photos, using one of the photos as a reference. Return the matched photos\n",
    "    and optionally write to files.\n",
    "    @param {list} photo_paths A list of relative or absolute paths to image files\n",
    "    @param {bool, default True} write If true, the matched photos will be written to disk.\n",
    "    @param {str, default None} save_dir A directory to write matched files to. If none is provided,\n",
    "    files will be written to the directory they were read from.\n",
    "    @param {str, default \"_match\"} saveSuffix Characters to append to the filename when writing\n",
    "    @param {int, default 0} reference_index The index of the photo path to use as a reference when\n",
    "    histogram matching.\n",
    "    @param {numpy.dtype, default None} dtype The data type to cast values of the matched photo to.\n",
    "    If none is provided, the data type of the input reference image will be used.\n",
    "    @return {list} List of np.ndarrays representing histogram matched photos\n",
    "    \"\"\"\n",
    "    photos = [io.imread(path) for path in photo_paths]\n",
    "    reference = photos[reference_index]\n",
    "    \n",
    "    if not dtype:\n",
    "        dtype = reference.dtype\n",
    "    \n",
    "    matched_photos = []\n",
    "    \n",
    "    for i, photo in enumerate(photos):\n",
    "        sprint(f\"Matching photo {i + 1} of {len(photos)}...\", silent)\n",
    "        \n",
    "        matched = match_histograms(photo, reference).astype(dtype)\n",
    "        matched_photos.append(matched)\n",
    "        \n",
    "        if write:\n",
    "            in_path = photo_paths[i]\n",
    "            out_path = os.path.join(save_dir, os.path.basename(in_path)) if save_dir else in_path\n",
    "            out_path = add_suffix(out_path, save_suffix)\n",
    "            sprint(f\"Writing matched photo to {out_path}...\", silent)\n",
    "            io.imsave(out_path, matched)\n",
    "    \n",
    "    return matched_photos"
   ]
  },
  {
   "cell_type": "markdown",
   "metadata": {},
   "source": [
    "## Example"
   ]
  },
  {
   "cell_type": "code",
   "execution_count": 74,
   "metadata": {},
   "outputs": [
    {
     "ename": "KeyboardInterrupt",
     "evalue": "",
     "output_type": "error",
     "traceback": [
      "\u001b[1;31m---------------------------------------------------------------------------\u001b[0m",
      "\u001b[1;31mKeyboardInterrupt\u001b[0m                         Traceback (most recent call last)",
      "\u001b[1;32m<ipython-input-74-53d9f48fbbfd>\u001b[0m in \u001b[0;36m<module>\u001b[1;34m\u001b[0m\n\u001b[0;32m      4\u001b[0m \u001b[0mphoto_paths\u001b[0m \u001b[1;33m=\u001b[0m \u001b[0mlist_paths\u001b[0m\u001b[1;33m(\u001b[0m\u001b[0mimg_dir\u001b[0m\u001b[1;33m,\u001b[0m \u001b[0mvalid_extensions\u001b[0m\u001b[1;33m)\u001b[0m\u001b[1;33m\u001b[0m\u001b[1;33m\u001b[0m\u001b[0m\n\u001b[0;32m      5\u001b[0m \u001b[1;33m\u001b[0m\u001b[0m\n\u001b[1;32m----> 6\u001b[1;33m \u001b[0mmatched_photos\u001b[0m \u001b[1;33m=\u001b[0m \u001b[0mhistogram_match_photos\u001b[0m\u001b[1;33m(\u001b[0m\u001b[0mphoto_paths\u001b[0m\u001b[1;33m,\u001b[0m \u001b[0mwrite\u001b[0m\u001b[1;33m=\u001b[0m\u001b[1;32mTrue\u001b[0m\u001b[1;33m,\u001b[0m \u001b[0msave_dir\u001b[0m\u001b[1;33m=\u001b[0m\u001b[0msave_dir\u001b[0m\u001b[1;33m,\u001b[0m \u001b[0msave_suffix\u001b[0m\u001b[1;33m=\u001b[0m\u001b[1;34m\"_matched\"\u001b[0m\u001b[1;33m,\u001b[0m \u001b[0msilent\u001b[0m\u001b[1;33m=\u001b[0m\u001b[1;32mTrue\u001b[0m\u001b[1;33m)\u001b[0m\u001b[1;33m\u001b[0m\u001b[1;33m\u001b[0m\u001b[0m\n\u001b[0m",
      "\u001b[1;32m<ipython-input-73-878b192503f9>\u001b[0m in \u001b[0;36mhistogram_match_photos\u001b[1;34m(photo_paths, write, save_dir, save_suffix, reference_index, dtype, silent)\u001b[0m\n\u001b[0;32m     25\u001b[0m         \u001b[0msprint\u001b[0m\u001b[1;33m(\u001b[0m\u001b[1;34mf\"Matching photo {i + 1} of {len(photos)}...\"\u001b[0m\u001b[1;33m,\u001b[0m \u001b[0msilent\u001b[0m\u001b[1;33m)\u001b[0m\u001b[1;33m\u001b[0m\u001b[1;33m\u001b[0m\u001b[0m\n\u001b[0;32m     26\u001b[0m \u001b[1;33m\u001b[0m\u001b[0m\n\u001b[1;32m---> 27\u001b[1;33m         \u001b[0mmatched\u001b[0m \u001b[1;33m=\u001b[0m \u001b[0mmatch_histograms\u001b[0m\u001b[1;33m(\u001b[0m\u001b[0mphoto\u001b[0m\u001b[1;33m,\u001b[0m \u001b[0mreference\u001b[0m\u001b[1;33m)\u001b[0m\u001b[1;33m.\u001b[0m\u001b[0mastype\u001b[0m\u001b[1;33m(\u001b[0m\u001b[0mdtype\u001b[0m\u001b[1;33m)\u001b[0m\u001b[1;33m\u001b[0m\u001b[1;33m\u001b[0m\u001b[0m\n\u001b[0m\u001b[0;32m     28\u001b[0m         \u001b[0mmatched_photos\u001b[0m\u001b[1;33m.\u001b[0m\u001b[0mappend\u001b[0m\u001b[1;33m(\u001b[0m\u001b[0mmatched\u001b[0m\u001b[1;33m)\u001b[0m\u001b[1;33m\u001b[0m\u001b[1;33m\u001b[0m\u001b[0m\n\u001b[0;32m     29\u001b[0m \u001b[1;33m\u001b[0m\u001b[0m\n",
      "\u001b[1;32m~\\anaconda3\\lib\\site-packages\\skimage\\exposure\\histogram_matching.py\u001b[0m in \u001b[0;36mmatch_histograms\u001b[1;34m(image, reference, multichannel)\u001b[0m\n\u001b[0;32m     66\u001b[0m             \u001b[0mmatched\u001b[0m\u001b[1;33m[\u001b[0m\u001b[1;33m...\u001b[0m\u001b[1;33m,\u001b[0m \u001b[0mchannel\u001b[0m\u001b[1;33m]\u001b[0m \u001b[1;33m=\u001b[0m \u001b[0mmatched_channel\u001b[0m\u001b[1;33m\u001b[0m\u001b[1;33m\u001b[0m\u001b[0m\n\u001b[0;32m     67\u001b[0m     \u001b[1;32melse\u001b[0m\u001b[1;33m:\u001b[0m\u001b[1;33m\u001b[0m\u001b[1;33m\u001b[0m\u001b[0m\n\u001b[1;32m---> 68\u001b[1;33m         \u001b[0mmatched\u001b[0m \u001b[1;33m=\u001b[0m \u001b[0m_match_cumulative_cdf\u001b[0m\u001b[1;33m(\u001b[0m\u001b[0mimage\u001b[0m\u001b[1;33m,\u001b[0m \u001b[0mreference\u001b[0m\u001b[1;33m)\u001b[0m\u001b[1;33m\u001b[0m\u001b[1;33m\u001b[0m\u001b[0m\n\u001b[0m\u001b[0;32m     69\u001b[0m \u001b[1;33m\u001b[0m\u001b[0m\n\u001b[0;32m     70\u001b[0m     \u001b[1;32mreturn\u001b[0m \u001b[0mmatched\u001b[0m\u001b[1;33m\u001b[0m\u001b[1;33m\u001b[0m\u001b[0m\n",
      "\u001b[1;32m~\\anaconda3\\lib\\site-packages\\skimage\\exposure\\histogram_matching.py\u001b[0m in \u001b[0;36m_match_cumulative_cdf\u001b[1;34m(source, template)\u001b[0m\n\u001b[0;32m      7\u001b[0m     \u001b[0mits\u001b[0m \u001b[0mvalues\u001b[0m \u001b[0mmatches\u001b[0m \u001b[0mthe\u001b[0m \u001b[0mcumulative\u001b[0m \u001b[0mdensity\u001b[0m \u001b[0mfunction\u001b[0m \u001b[0mof\u001b[0m \u001b[0mthe\u001b[0m \u001b[0mtemplate\u001b[0m\u001b[1;33m.\u001b[0m\u001b[1;33m\u001b[0m\u001b[1;33m\u001b[0m\u001b[0m\n\u001b[0;32m      8\u001b[0m     \"\"\"\n\u001b[1;32m----> 9\u001b[1;33m     src_values, src_unique_indices, src_counts = np.unique(source.ravel(),\n\u001b[0m\u001b[0;32m     10\u001b[0m                                                            \u001b[0mreturn_inverse\u001b[0m\u001b[1;33m=\u001b[0m\u001b[1;32mTrue\u001b[0m\u001b[1;33m,\u001b[0m\u001b[1;33m\u001b[0m\u001b[1;33m\u001b[0m\u001b[0m\n\u001b[0;32m     11\u001b[0m                                                            return_counts=True)\n",
      "\u001b[1;32m<__array_function__ internals>\u001b[0m in \u001b[0;36munique\u001b[1;34m(*args, **kwargs)\u001b[0m\n",
      "\u001b[1;32m~\\anaconda3\\lib\\site-packages\\numpy\\lib\\arraysetops.py\u001b[0m in \u001b[0;36munique\u001b[1;34m(ar, return_index, return_inverse, return_counts, axis)\u001b[0m\n\u001b[0;32m    261\u001b[0m     \u001b[0mar\u001b[0m \u001b[1;33m=\u001b[0m \u001b[0mnp\u001b[0m\u001b[1;33m.\u001b[0m\u001b[0masanyarray\u001b[0m\u001b[1;33m(\u001b[0m\u001b[0mar\u001b[0m\u001b[1;33m)\u001b[0m\u001b[1;33m\u001b[0m\u001b[1;33m\u001b[0m\u001b[0m\n\u001b[0;32m    262\u001b[0m     \u001b[1;32mif\u001b[0m \u001b[0maxis\u001b[0m \u001b[1;32mis\u001b[0m \u001b[1;32mNone\u001b[0m\u001b[1;33m:\u001b[0m\u001b[1;33m\u001b[0m\u001b[1;33m\u001b[0m\u001b[0m\n\u001b[1;32m--> 263\u001b[1;33m         \u001b[0mret\u001b[0m \u001b[1;33m=\u001b[0m \u001b[0m_unique1d\u001b[0m\u001b[1;33m(\u001b[0m\u001b[0mar\u001b[0m\u001b[1;33m,\u001b[0m \u001b[0mreturn_index\u001b[0m\u001b[1;33m,\u001b[0m \u001b[0mreturn_inverse\u001b[0m\u001b[1;33m,\u001b[0m \u001b[0mreturn_counts\u001b[0m\u001b[1;33m)\u001b[0m\u001b[1;33m\u001b[0m\u001b[1;33m\u001b[0m\u001b[0m\n\u001b[0m\u001b[0;32m    264\u001b[0m         \u001b[1;32mreturn\u001b[0m \u001b[0m_unpack_tuple\u001b[0m\u001b[1;33m(\u001b[0m\u001b[0mret\u001b[0m\u001b[1;33m)\u001b[0m\u001b[1;33m\u001b[0m\u001b[1;33m\u001b[0m\u001b[0m\n\u001b[0;32m    265\u001b[0m \u001b[1;33m\u001b[0m\u001b[0m\n",
      "\u001b[1;32m~\\anaconda3\\lib\\site-packages\\numpy\\lib\\arraysetops.py\u001b[0m in \u001b[0;36m_unique1d\u001b[1;34m(ar, return_index, return_inverse, return_counts)\u001b[0m\n\u001b[0;32m    306\u001b[0m \u001b[1;33m\u001b[0m\u001b[0m\n\u001b[0;32m    307\u001b[0m     \u001b[1;32mif\u001b[0m \u001b[0moptional_indices\u001b[0m\u001b[1;33m:\u001b[0m\u001b[1;33m\u001b[0m\u001b[1;33m\u001b[0m\u001b[0m\n\u001b[1;32m--> 308\u001b[1;33m         \u001b[0mperm\u001b[0m \u001b[1;33m=\u001b[0m \u001b[0mar\u001b[0m\u001b[1;33m.\u001b[0m\u001b[0margsort\u001b[0m\u001b[1;33m(\u001b[0m\u001b[0mkind\u001b[0m\u001b[1;33m=\u001b[0m\u001b[1;34m'mergesort'\u001b[0m \u001b[1;32mif\u001b[0m \u001b[0mreturn_index\u001b[0m \u001b[1;32melse\u001b[0m \u001b[1;34m'quicksort'\u001b[0m\u001b[1;33m)\u001b[0m\u001b[1;33m\u001b[0m\u001b[1;33m\u001b[0m\u001b[0m\n\u001b[0m\u001b[0;32m    309\u001b[0m         \u001b[0maux\u001b[0m \u001b[1;33m=\u001b[0m \u001b[0mar\u001b[0m\u001b[1;33m[\u001b[0m\u001b[0mperm\u001b[0m\u001b[1;33m]\u001b[0m\u001b[1;33m\u001b[0m\u001b[1;33m\u001b[0m\u001b[0m\n\u001b[0;32m    310\u001b[0m     \u001b[1;32melse\u001b[0m\u001b[1;33m:\u001b[0m\u001b[1;33m\u001b[0m\u001b[1;33m\u001b[0m\u001b[0m\n",
      "\u001b[1;31mKeyboardInterrupt\u001b[0m: "
     ]
    }
   ],
   "source": [
    "img_dir = os.path.join(\"E:\", \"ORISE\", \"Projects\", \"other\", \"naficy_photogrammetry\", \"DWW 1965-69 Six Mile GYE\")\n",
    "save_dir = os.path.join(\"E:\", \"ORISE\", \"Projects\", \"other\", \"naficy_photogrammetry\", \"DWW 1965-69 Six Mile GYE\", \"hist_matched\")\n",
    "valid_extensions = (\".tif\")\n",
    "photo_paths = list_paths(img_dir, valid_extensions)\n",
    "\n",
    "matched_photos = histogram_match_photos(photo_paths, write=True, save_dir=save_dir, save_suffix=\"_matched\", silent=True)"
   ]
  }
 ],
 "metadata": {
  "kernelspec": {
   "display_name": "Python 3",
   "language": "python",
   "name": "python3"
  },
  "language_info": {
   "codemirror_mode": {
    "name": "ipython",
    "version": 3
   },
   "file_extension": ".py",
   "mimetype": "text/x-python",
   "name": "python",
   "nbconvert_exporter": "python",
   "pygments_lexer": "ipython3",
   "version": "3.8.5"
  }
 },
 "nbformat": 4,
 "nbformat_minor": 4
}
