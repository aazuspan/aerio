{
 "cells": [
  {
   "cell_type": "markdown",
   "metadata": {},
   "source": [
    "# Histogram matching\n",
    "Utility scripts for batch histogram matching of photos. Histogram matching can be used to normalize differences in lighting between photos."
   ]
  },
  {
   "cell_type": "code",
   "execution_count": 1,
   "metadata": {},
   "outputs": [],
   "source": [
    "import os\n",
    "import numpy as np\n",
    "from skimage import io\n",
    "from skimage.exposure import match_histograms"
   ]
  },
  {
   "cell_type": "markdown",
   "metadata": {},
   "source": [
    "## Helper functions"
   ]
  },
  {
   "cell_type": "code",
   "execution_count": 20,
   "metadata": {},
   "outputs": [],
   "source": [
    "def list_paths(file_dir, valid_extensions):\n",
    "    \"\"\"\n",
    "    Return a list of paths to files in a directory with valid extensions\n",
    "    @param {str} file_dir The directory to find files in\n",
    "    @param {list} valid_extensions All valid extensions, such as \".tif\"\n",
    "    @return {list} Path to all files with valid extensions in the file directory\n",
    "    \"\"\"\n",
    "    return [os.path.join(file_dir, file) for file in os.listdir(file_dir) if any(file.endswith(ext) for ext in valid_extensions)]"
   ]
  },
  {
   "cell_type": "code",
   "execution_count": 13,
   "metadata": {},
   "outputs": [],
   "source": [
    "def add_suffix(file_path, suffix):\n",
    "    \"\"\"\n",
    "    Insert a suffix into the file name of a path.\n",
    "    @param {str} file_path A relative or absolute path to the file, including the file name\n",
    "    @param {str} suffix A set of characters to append to the file name as a suffix\n",
    "    @return {str} A relative or absolute path to the file with the suffix appended to the file name\n",
    "    \"\"\"\n",
    "    path, basename = os.path.split(file_path)\n",
    "    name, ext = os.path.splitext(basename)\n",
    "    name_suffix = f\"{name}{suffix}{ext}\"\n",
    "    \n",
    "    full_path = os.path.join(path, name_suffix)\n",
    "    return full_path"
   ]
  },
  {
   "cell_type": "markdown",
   "metadata": {},
   "source": [
    "## Matching function"
   ]
  },
  {
   "cell_type": "code",
   "execution_count": 59,
   "metadata": {},
   "outputs": [],
   "source": [
    "def histogram_match_photos(photo_paths, write=True, save_dir=None, save_suffix=\"_match\", reference_index=0, dtype=None):\n",
    "    \"\"\"\n",
    "    Histogram match a set of photos, using one of the photos as a reference. Return the matched photos\n",
    "    and optionally write to files.\n",
    "    @param {list} photo_paths A list of relative or absolute paths to image files\n",
    "    @param {bool, default True} write If true, the matched photos will be written to disk.\n",
    "    @param {str, default None} save_dir A directory to write matched files to. If none is provided,\n",
    "    files will be written to the directory they were read from.\n",
    "    @param {str, default \"_match\"} saveSuffix Characters to append to the filename when writing\n",
    "    @param {int, default 0} reference_index The index of the photo path to use as a reference when\n",
    "    histogram matching.\n",
    "    @param {numpy.dtype, default None} dtype The data type to cast values of the matched photo to.\n",
    "    If none is provided, the data type of the input reference image will be used.\n",
    "    @return\n",
    "    \"\"\"\n",
    "    photos = [io.imread(path) for path in photo_paths]\n",
    "    reference = photos[reference_index]\n",
    "    \n",
    "    if not dtype:\n",
    "        dtype = reference.dtype\n",
    "    \n",
    "    matched_photos = []\n",
    "    \n",
    "    for i, photo in enumerate(photos):\n",
    "        print(f\"Matching photo {i + 1} of {len(photos)}...\")\n",
    "        \n",
    "        # Histogram match and cast pixels to original data type\n",
    "        matched = match_histograms(photo, reference).astype(dtype)\n",
    "        matched_photos.append(matched)\n",
    "        \n",
    "        if write:\n",
    "            in_path = photo_paths[i]\n",
    "            out_path = os.path.join(save_dir, os.path.basename(in_path)) if save_dir else in_path\n",
    "            out_path = add_suffix(out_path, save_suffix)\n",
    "            print(f\"Writing matched photo to {out_path}...\")\n",
    "            io.imsave(out_path, matched)\n",
    "    \n",
    "    return matched_photos"
   ]
  },
  {
   "cell_type": "markdown",
   "metadata": {},
   "source": [
    "## Example"
   ]
  },
  {
   "cell_type": "code",
   "execution_count": null,
   "metadata": {},
   "outputs": [
    {
     "name": "stdout",
     "output_type": "stream",
     "text": [
      "Matching photo 1 of 18...\n"
     ]
    }
   ],
   "source": [
    "img_dir = os.path.join(\"E:\", \"ORISE\", \"Projects\", \"other\", \"naficy_photogrammetry\", \"DWW 1965-69 Six Mile GYE\")\n",
    "save_dir = os.path.join(\"E:\", \"ORISE\", \"Projects\", \"other\", \"naficy_photogrammetry\", \"DWW 1965-69 Six Mile GYE\", \"hist_matched\")\n",
    "valid_extensions = (\".tif\")\n",
    "photo_paths = list_paths(img_dir, valid_extensions)\n",
    "\n",
    "matched_photos = histogram_match_photos(photo_paths, write=True, save_dir=save_dir, save_suffix=\"_matched\")"
   ]
  }
 ],
 "metadata": {
  "kernelspec": {
   "display_name": "Python 3",
   "language": "python",
   "name": "python3"
  },
  "language_info": {
   "codemirror_mode": {
    "name": "ipython",
    "version": 3
   },
   "file_extension": ".py",
   "mimetype": "text/x-python",
   "name": "python",
   "nbconvert_exporter": "python",
   "pygments_lexer": "ipython3",
   "version": "3.8.5"
  }
 },
 "nbformat": 4,
 "nbformat_minor": 4
}
