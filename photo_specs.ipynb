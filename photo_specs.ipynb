{
 "cells": [
  {
   "cell_type": "markdown",
   "metadata": {},
   "source": [
    "# Photo Spec Calculator\n",
    "This tool is used to calculate unknown photo specs (pixel size and DPI or photo size) from known specs (DPI or photo size)."
   ]
  },
  {
   "cell_type": "code",
   "execution_count": 46,
   "metadata": {},
   "outputs": [],
   "source": [
    "import os\n",
    "from PIL import Image\n",
    "import statistics\n",
    "\n",
    "# Override PIL max pixel limit\n",
    "Image.MAX_IMAGE_PIXELS = None"
   ]
  },
  {
   "cell_type": "code",
   "execution_count": 63,
   "metadata": {},
   "outputs": [],
   "source": [
    "def calculate_photo_specs(path, dpi=None, photo_size=None, dpi_tolerance=0.01, verbose=False):\n",
    "    \"\"\"\n",
    "    Pass a photo path and either DPI or photo size to calculate \n",
    "    pixel size and the other parameter. \n",
    "    @param {str} path The path to the photo image.\n",
    "    @param {int} dpi The scanning resolution of the image in dots\n",
    "    per inch. If DPI is not provided, it will be calculated based on\n",
    "    photo size. DPI is calculated as the mean of the length and width\n",
    "    DPI. \n",
    "    @param {tuple of ints} photo_size The physical size of the scanned \n",
    "    image in millimeters format (length, width). If photo size is not\n",
    "    provided, it will be calculated based on DPI.\n",
    "    @param {float, default 0.5} dpi_tolerance: The maximum proportional\n",
    "    difference between calculated length and width DPI. If the provided photo\n",
    "    size is out of proportion to the image size in pixels beyond this threshold,\n",
    "    (for example, if length and width were switched in a rectangular image), an\n",
    "    error will be raised.\n",
    "    @return {tuple} Photo specs in the format ((pixel length in mm, pixel width in mm), dpi, (length in mm, width in mm))\n",
    "    \"\"\"\n",
    "    if all((dpi, photo_size)):\n",
    "        raise Exception(\"Provide only dpi or photo_size argument, not both.\")\n",
    "    \n",
    "    img = Image.open(path)\n",
    "    l, w = img.size\n",
    "    \n",
    "    if dpi:\n",
    "        calculating = \"Photo size\"\n",
    "        l_in = l / dpi\n",
    "        w_in = w / dpi\n",
    "        \n",
    "        l_mm = l_in * 25.4\n",
    "        w_mm = w_in * 25.4\n",
    "        \n",
    "        photo_size = (l_mm, w_mm)\n",
    "    \n",
    "    elif photo_size:\n",
    "        calculating = \"DPI\"\n",
    "        l_mm = photo_size[0]\n",
    "        w_mm = photo_size[1]\n",
    "        \n",
    "        l_in = l_mm / 25.4\n",
    "        w_in = w_mm / 25.4\n",
    "        \n",
    "        l_dpi = l / l_in\n",
    "        w_dpi = w / w_in\n",
    "        \n",
    "        dpi_mismatch = abs(l_dpi / w_dpi - 1)\n",
    "        dpi_mismatch_print = str(round(dpi_mismatch * 100, 2))\n",
    "        \n",
    "        if dpi_mismatch > dpi_tolerance:\n",
    "            raise Warning(f\"\"\"The provided photo_size proportion does not match \n",
    "            the image resolution ({dpi_mismatch_print}% mismatch). Confirm that \n",
    "            photo_size is accurate. To supress this error, raise the dpi_tolerance\n",
    "            beyond the current mismatch level.\"\"\")\n",
    "        \n",
    "        dpi = statistics.mean((l_dpi, w_dpi))\n",
    "    \n",
    "    else:\n",
    "        raise Exception(\"Provide either dpi or photo_size argument.\")\n",
    "        \n",
    "    l_pixel = l_mm / l\n",
    "    w_pixel = w_mm / w\n",
    "    pixel_size = (l_pixel, w_pixel)\n",
    "    \n",
    "    if verbose:\n",
    "        print(f\"\"\"\n",
    "        Image resolution (px): {l} (L) x {w} (W)\n",
    "        Calculated: {calculating}\\n\n",
    "        DPI: {dpi}\n",
    "        DPI mismatch: {dpi_mismatch_print + \"%\" if calculating == \"DPI\" else \"NA\"}\n",
    "        Photo length (mm): {photo_size[1]}\n",
    "        Photo width (mm): {photo_size[0]}\n",
    "        Pixel length (mm): {l_pixel}\n",
    "        Pixel width (mm): {w_pixel}\n",
    "        \"\"\")\n",
    "    \n",
    "    return(pixel_size, dpi, photo_size)"
   ]
  },
  {
   "cell_type": "markdown",
   "metadata": {},
   "source": [
    "## Example"
   ]
  },
  {
   "cell_type": "code",
   "execution_count": 67,
   "metadata": {},
   "outputs": [
    {
     "name": "stdout",
     "output_type": "stream",
     "text": [
      "\n",
      "        Image resolution (px): 18859 (L) x 18862 (W)\n",
      "        Calculated: DPI\n",
      "\n",
      "        DPI: 2138.645982142857\n",
      "        DPI mismatch: 0.02%\n",
      "        Photo length (mm): 224\n",
      "        Photo width (mm): 224\n",
      "        Pixel length (mm): 0.011877618113367622\n",
      "        Pixel width (mm): 0.011875728978899375\n",
      "        \n"
     ]
    }
   ],
   "source": [
    "photo_path = os.path.join(\"E:\", \"ORISE\", \"Projects\", \"other\", \"naficy_photogrammetry\", \"DWW 1965-69 Six Mile GYE\", \"DWW_3FF_117.tif\")\n",
    "\n",
    "pixel_size, dpi, _ = calculate_photo_specs(photo_path, photo_size=(224, 224), verbose=True)"
   ]
  }
 ],
 "metadata": {
  "kernelspec": {
   "display_name": "Python 3",
   "language": "python",
   "name": "python3"
  },
  "language_info": {
   "codemirror_mode": {
    "name": "ipython",
    "version": 3
   },
   "file_extension": ".py",
   "mimetype": "text/x-python",
   "name": "python",
   "nbconvert_exporter": "python",
   "pygments_lexer": "ipython3",
   "version": "3.8.5"
  }
 },
 "nbformat": 4,
 "nbformat_minor": 4
}
