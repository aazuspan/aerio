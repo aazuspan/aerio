{
 "cells": [
  {
   "cell_type": "markdown",
   "metadata": {},
   "source": [
    "# Photo Spec Calculator\n",
    "This tool is used to calculate unknown photo specs (pixel size and DPI or photo size) from known specs (DPI or photo size)."
   ]
  },
  {
   "cell_type": "code",
   "execution_count": 4,
   "metadata": {},
   "outputs": [],
   "source": [
    "import cv2\n",
    "import os\n",
    "import statistics\n",
    "\n",
    "from utils import sprint"
   ]
  },
  {
   "cell_type": "code",
   "execution_count": 5,
   "metadata": {},
   "outputs": [],
   "source": [
    "def calculate_dpi(photo_size, img_size):\n",
    "    \"\"\"\n",
    "    Calculate dots per inch (DPI) given a physical photo size in millimeters and a digital image size\n",
    "    in pixels.\n",
    "    @param {tuple} photo_size Physical photo size (length, width) in millimeters.\n",
    "    @param {tuple} img_size Digital image size (length, width) in pixels\n",
    "    @return {float} Calculated DPI of the image.\n",
    "    \"\"\"\n",
    "    # Convert photo size from millimeters to inches\n",
    "    l_in = photo_size[0] / 25.4\n",
    "    w_in = photo_size[1] / 25.4\n",
    "\n",
    "    l_dpi = img_size[0] / l_in\n",
    "    w_dpi = img_size[1] / w_in\n",
    "\n",
    "    return statistics.mean((l_dpi, w_dpi))"
   ]
  },
  {
   "cell_type": "code",
   "execution_count": 6,
   "metadata": {},
   "outputs": [],
   "source": [
    "def calculate_photo_size(dpi, img_size):\n",
    "    \"\"\"\n",
    "    Calculate physical photo size in millimeters given dots per inch (DPI) and digital image size\n",
    "    in pixels.\n",
    "    @param {int} dpi Dots per inch that the photo was scanned at.\n",
    "    @param {tuple} img_size Digital image size (length, width) in pixels\n",
    "    @return {tuple} Calculated photo size (length, width).\n",
    "    \"\"\"\n",
    "    # Calculate photo size in inches\n",
    "    l_in = img_size[0] / dpi\n",
    "    w_in = img_size[1] / dpi\n",
    "        \n",
    "    # Convert photo size to millimeters\n",
    "    l_mm = l_in * 25.4\n",
    "    w_mm = w_in * 25.4\n",
    "        \n",
    "    return (l_mm, w_mm)"
   ]
  },
  {
   "cell_type": "code",
   "execution_count": 7,
   "metadata": {},
   "outputs": [],
   "source": [
    "def calculate_pixel_size(photo_size, img_size):\n",
    "    \"\"\"\n",
    "    Calculate pixel size in millimiters given physical photo size in millimeters and digital image size\n",
    "    in pixels.\n",
    "    @param {tuple} photo_size Physical photo size (length, width) in millimeters.\n",
    "    @param {tuple} img_size Digital image size (length, width) in pixels.\n",
    "    @return {tuple} Calculated ixel size (length, width).\n",
    "    \"\"\"\n",
    "    l_pixel = photo_size[0] / img_size[0]\n",
    "    w_pixel = photo_size[1] / img_size[1]\n",
    "    \n",
    "    return (l_pixel, w_pixel)"
   ]
  },
  {
   "cell_type": "code",
   "execution_count": 8,
   "metadata": {},
   "outputs": [],
   "source": [
    "def calculate_photo_specs(path, dpi=None, photo_size=None, silent=True):\n",
    "    \"\"\"\n",
    "    Pass a photo path and either DPI or photo size to calculate \n",
    "    pixel size and the other parameter. \n",
    "    @param {str} path The path to the photo image.\n",
    "    @param {int} dpi The scanning resolution of the image in dots\n",
    "    per inch. If DPI is not provided, it will be calculated based on\n",
    "    photo size. DPI is calculated as the mean of the length and width\n",
    "    DPI. \n",
    "    @param {tuple of ints} photo_size The physical size of the scanned \n",
    "    image in millimeters format (length, width). If photo size is not\n",
    "    provided, it will be calculated based on DPI.\n",
    "    @return {tuple} Photo specs in the format ((pixel length in mm, pixel width in mm), dpi, (length in mm, width in mm))\n",
    "    \"\"\"\n",
    "    if all((dpi, photo_size)):\n",
    "        raise Exception(\"Provide only dpi or photo_size argument, not both.\")\n",
    "    \n",
    "    img = cv2.imread(path)\n",
    "    l, w, _ = img.shape\n",
    "    img_size = (l, w)\n",
    "    \n",
    "    if dpi:\n",
    "        calculating = \"Photo size\"\n",
    "        photo_size = calculate_photo_size(dpi, img_size)\n",
    "    \n",
    "    elif photo_size:\n",
    "        calculating = \"DPI\"\n",
    "        dpi = calculate_dpi(photo_size, img_size)\n",
    "    \n",
    "    else:\n",
    "        raise Exception(\"Provide either dpi or photo_size argument.\")\n",
    "        \n",
    "    pixel_size = calculate_pixel_size(photo_size, img_size)\n",
    "    \n",
    "    sprint(f\"\"\"\n",
    "        Image resolution (px): {l} (L) x {w} (W)\n",
    "        Calculated: {calculating}\\n\n",
    "        DPI: {dpi}\n",
    "        Photo length (mm): {photo_size[1]}\n",
    "        Photo width (mm): {photo_size[0]}\n",
    "        Pixel length (mm): {pixel_size[0]}\n",
    "        Pixel width (mm): {pixel_size[1]}\n",
    "        \"\"\", silent)\n",
    "    \n",
    "    return(pixel_size, dpi, photo_size)"
   ]
  },
  {
   "cell_type": "markdown",
   "metadata": {},
   "source": [
    "## Example"
   ]
  },
  {
   "cell_type": "code",
   "execution_count": 12,
   "metadata": {},
   "outputs": [
    {
     "name": "stdout",
     "output_type": "stream",
     "text": [
      "\n",
      "        Image resolution (px): 1886 (L) x 1885 (W)\n",
      "        Calculated: DPI\n",
      "\n",
      "        DPI: 213.80223214285712\n",
      "        Photo length (mm): 224\n",
      "        Photo width (mm): 224\n",
      "        Pixel length (mm): 0.11876988335100742\n",
      "        Pixel width (mm): 0.11883289124668435\n",
      "        \n"
     ]
    }
   ],
   "source": [
    "photo_path = os.path.join(\"data\", \"DWW_3FF_117.tif\")\n",
    "\n",
    "pixel_size, dpi, _ = calculate_photo_specs(photo_path, photo_size=(224, 224), silent=False)"
   ]
  }
 ],
 "metadata": {
  "kernelspec": {
   "display_name": "Python 3",
   "language": "python",
   "name": "python3"
  },
  "language_info": {
   "codemirror_mode": {
    "name": "ipython",
    "version": 3
   },
   "file_extension": ".py",
   "mimetype": "text/x-python",
   "name": "python",
   "nbconvert_exporter": "python",
   "pygments_lexer": "ipython3",
   "version": "3.8.5"
  }
 },
 "nbformat": 4,
 "nbformat_minor": 4
}
